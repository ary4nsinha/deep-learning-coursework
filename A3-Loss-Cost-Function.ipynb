{
 "cells": [
  {
   "cell_type": "code",
   "execution_count": null,
   "id": "910226a9",
   "metadata": {},
   "outputs": [],
   "source": [
    "import numpy as np\n",
    "import pandas as pd\n",
    "import matplotlib.pyplot as plt"
   ]
  },
  {
   "cell_type": "code",
   "execution_count": null,
   "id": "c7b14c7a",
   "metadata": {},
   "outputs": [],
   "source": [
    "df = pd.read_csv('C:\\\\Users\\\\worka\\\\OneDrive\\\\Desktop\\\\deep-learning-coursework\\\\data\\\\new_insurance_data.csv')\n"
   ]
  },
  {
   "cell_type": "code",
   "execution_count": null,
   "id": "6a8fda99",
   "metadata": {},
   "outputs": [],
   "source": [
    "X = df[['age', 'affordibility']].values\n",
    "y = df[['bought_insurance']].values"
   ]
  },
  {
   "cell_type": "code",
   "execution_count": null,
   "id": "15e65880",
   "metadata": {},
   "outputs": [],
   "source": [
    "X[:, 0] = X[:, 0] / 100  # Normalize the 'age' column"
   ]
  },
  {
   "cell_type": "code",
   "execution_count": null,
   "id": "a515a9b5",
   "metadata": {},
   "outputs": [],
   "source": [
    "X = np.hstack((np.ones((X.shape[0], 1)), X))  # Add bias term as the first column"
   ]
  },
  {
   "cell_type": "code",
   "execution_count": null,
   "id": "a3f81348",
   "metadata": {},
   "outputs": [],
   "source": [
    "# Sigmoid function\n",
    "def sigmoid(z):\n",
    "    return 1 / (1 + np.exp(-z))\n",
    "\n",
    "# Binary cross-entropy loss\n",
    "def compute_loss(y, y_pred):\n",
    "    return -np.mean(y * np.log(y_pred) + (1 - y) * np.log(1 - y_pred))\n",
    "\n",
    "def gradient_descent(X, y, lr=0.1, epochs=100):\n",
    "    m, n = X.shape  # m: number of samples, n: number of features (including bias)\n",
    "    weights = np.zeros(n).reshape(-1, 1)  # Initialize weights to zeros (n, 1)\n",
    "    losses = []\n",
    "\n",
    "    # Ensure y is reshaped correctly\n",
    "    y = y.reshape(-1, 1)\n",
    "\n",
    "    for epoch in range(epochs):\n",
    "        # Linear combination\n",
    "        z = np.dot(X, weights)  # Shape: (m, 1)\n",
    "        # Sigmoid activation\n",
    "        y_pred = 1 / (1 + np.exp(-z))  # Shape: (m, 1)\n",
    "        # Compute gradient\n",
    "        gradient = np.dot(X.T, (y_pred - y)) / m  # Shape: (n, 1)\n",
    "        # Update weights\n",
    "        weights -= lr * gradient\n",
    "        # Compute loss\n",
    "        loss = -np.mean(y * np.log(y_pred) + (1 - y) * np.log(1 - y_pred))  # Binary cross-entropy loss\n",
    "        losses.append(loss)\n",
    "\n",
    "        # Print progress every 10 epochs\n",
    "        if epoch % 10 == 0:\n",
    "            print(f\"Epoch {epoch}, Loss: {loss:.4f}\")\n",
    "    \n",
    "    return weights, losses"
   ]
  },
  {
   "cell_type": "code",
   "execution_count": null,
   "id": "619128d7",
   "metadata": {},
   "outputs": [],
   "source": [
    "# Run gradient descent\n",
    "learning_rate = 0.1\n",
    "epochs = 100\n",
    "weights, losses = gradient_descent(X, y, lr=learning_rate, epochs=epochs)\n",
    "\n",
    "# Print final weights\n",
    "print(\"Trained Weights (including bias):\", weights)"
   ]
  },
  {
   "cell_type": "code",
   "execution_count": null,
   "id": "7e8b797c",
   "metadata": {},
   "outputs": [],
   "source": [
    "# Calculate predictions\n",
    "z = np.dot(X, weights)\n",
    "y_pred = sigmoid(z)\n",
    "y_pred_classes = (y_pred >= 0.5).astype(int)  # Convert probabilities to binary predictions\n",
    "\n",
    "# Calculate accuracy\n",
    "accuracy = np.mean(y_pred_classes == y)\n",
    "print(f\"Accuracy: {accuracy:.4f}\")"
   ]
  },
  {
   "cell_type": "code",
   "execution_count": null,
   "id": "0c91a490",
   "metadata": {},
   "outputs": [],
   "source": [
    "y_predicted = np.array(y_pred_classes)\n",
    "y_true = np.array(y)"
   ]
  },
  {
   "cell_type": "code",
   "execution_count": null,
   "id": "bf4bf983",
   "metadata": {},
   "outputs": [],
   "source": [
    "def mae(y_predicted, y_true):\n",
    "    total_error = 0\n",
    "    for yp, yt in zip(y_predicted, y_true):\n",
    "        total_error += abs(yp - yt)\n",
    "    print(\"Total error is:\",total_error)\n",
    "    mae = total_error/len(y_predicted)\n",
    "    print(\"Mean absolute error is:\",mae)\n",
    "    return mae"
   ]
  },
  {
   "cell_type": "code",
   "execution_count": null,
   "id": "fbb49df7",
   "metadata": {},
   "outputs": [],
   "source": [
    "mae(y_predicted, y_true)"
   ]
  },
  {
   "cell_type": "code",
   "execution_count": null,
   "id": "a404833f",
   "metadata": {},
   "outputs": [],
   "source": [
    "mae(y_predicted, y_true)"
   ]
  },
  {
   "cell_type": "code",
   "execution_count": null,
   "id": "e1f4164c",
   "metadata": {},
   "outputs": [],
   "source": [
    "def mae_np(y_predicted, y_true):\n",
    "    return np.mean(np.abs(y_predicted-y_true))"
   ]
  },
  {
   "cell_type": "code",
   "execution_count": null,
   "id": "ef820dbe",
   "metadata": {},
   "outputs": [],
   "source": [
    "mae_np(y_predicted, y_true)"
   ]
  },
  {
   "cell_type": "code",
   "execution_count": null,
   "id": "99fe2c83",
   "metadata": {},
   "outputs": [],
   "source": [
    "np.log([0])"
   ]
  },
  {
   "cell_type": "code",
   "execution_count": null,
   "id": "27971664",
   "metadata": {},
   "outputs": [],
   "source": [
    "epsilon = 1e-15"
   ]
  },
  {
   "cell_type": "code",
   "execution_count": null,
   "id": "1d52610e",
   "metadata": {},
   "outputs": [],
   "source": [
    "np.log([1e-15])"
   ]
  },
  {
   "cell_type": "code",
   "execution_count": null,
   "id": "53c4d161",
   "metadata": {},
   "outputs": [],
   "source": [
    "y_predicted"
   ]
  },
  {
   "cell_type": "code",
   "execution_count": null,
   "id": "11a71781",
   "metadata": {},
   "outputs": [],
   "source": [
    "y_predicted_new = [max(i,epsilon) for i in y_predicted]\n",
    "y_predicted_new"
   ]
  },
  {
   "cell_type": "code",
   "execution_count": null,
   "id": "387168a3",
   "metadata": {},
   "outputs": [],
   "source": [
    "1-epsilon"
   ]
  },
  {
   "cell_type": "code",
   "execution_count": null,
   "id": "608f6ced",
   "metadata": {},
   "outputs": [],
   "source": [
    "y_predicted_new = [min(i,1-epsilon) for i in y_predicted_new]\n",
    "y_predicted_new = np.array(y_predicted_new)\n",
    "y_predicted_new"
   ]
  },
  {
   "cell_type": "code",
   "execution_count": null,
   "id": "42e3bab1",
   "metadata": {},
   "outputs": [],
   "source": [
    "np.log(y_predicted_new)"
   ]
  },
  {
   "cell_type": "code",
   "execution_count": null,
   "id": "98b1d6de",
   "metadata": {},
   "outputs": [],
   "source": [
    "-np.mean(y_true*np.log(y_predicted_new)+(1-y_true)*np.log(1-y_predicted_new))"
   ]
  },
  {
   "cell_type": "code",
   "execution_count": null,
   "id": "8f7e1e01",
   "metadata": {},
   "outputs": [],
   "source": [
    "def log_loss(y_true, y_predicted):\n",
    "    y_predicted_new = [max(i,epsilon) for i in y_predicted]\n",
    "    y_predicted_new = [min(i,1-epsilon) for i in y_predicted_new]\n",
    "    y_predicted_new = np.array(y_predicted_new)\n",
    "    return -np.mean(y_true*np.log(y_predicted_new)+(1-y_true)*np.log(1-y_predicted_new))"
   ]
  },
  {
   "cell_type": "code",
   "execution_count": null,
   "id": "b1d4230e",
   "metadata": {},
   "outputs": [],
   "source": [
    "log_loss(y_true, y_predicted)"
   ]
  }
 ],
 "metadata": {
  "kernelspec": {
   "display_name": "Python 3",
   "language": "python",
   "name": "python3"
  },
  "language_info": {
   "codemirror_mode": {
    "name": "ipython",
    "version": 3
   },
   "file_extension": ".py",
   "mimetype": "text/x-python",
   "name": "python",
   "nbconvert_exporter": "python",
   "pygments_lexer": "ipython3",
   "version": "3.12.2"
  }
 },
 "nbformat": 4,
 "nbformat_minor": 5
}
