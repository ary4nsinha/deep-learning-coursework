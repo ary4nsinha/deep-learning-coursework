{
 "cells": [
  {
   "cell_type": "code",
   "execution_count": null,
   "id": "5c94f440",
   "metadata": {},
   "outputs": [],
   "source": [
    "import pandas as pd\n",
    "import seaborn as sns\n",
    "import numpy as np\n",
    "import matplotlib.pyplot as plt"
   ]
  },
  {
   "cell_type": "code",
   "execution_count": null,
   "id": "6c85d627",
   "metadata": {},
   "outputs": [],
   "source": [
    "df = pd.read_csv('C:\\\\Users\\\\worka\\\\OneDrive\\\\Desktop\\\\deep-learning-coursework\\\\data\\\\HR_comma_sep.csv')\n"
   ]
  },
  {
   "cell_type": "code",
   "execution_count": null,
   "id": "3b1ad8cf",
   "metadata": {},
   "outputs": [],
   "source": [
    "df.head()"
   ]
  },
  {
   "cell_type": "code",
   "execution_count": null,
   "id": "37b3eb50",
   "metadata": {},
   "outputs": [],
   "source": [
    "df.info()"
   ]
  },
  {
   "cell_type": "code",
   "execution_count": null,
   "id": "dc2dedb8",
   "metadata": {},
   "outputs": [],
   "source": [
    "# Encode categorical columns using one-hot encoding\n",
    "data_encoded = pd.get_dummies(df, columns=['Department', 'salary'], drop_first=True)\n",
    "\n",
    "correlation_matrix = data_encoded.corr()\n",
    "\n",
    "plt.figure(figsize=(12, 10))\n",
    "sns.heatmap(correlation_matrix, annot=True, fmt=\".2f\", cmap='coolwarm', cbar=True)\n",
    "plt.title('Correlation Matrix')\n",
    "plt.show()"
   ]
  },
  {
   "cell_type": "code",
   "execution_count": null,
   "id": "42c673af",
   "metadata": {},
   "outputs": [],
   "source": [
    "# Plot bar charts showing impact of employee salaries on retention.\n",
    "plt.figure(figsize=(8, 6))\n",
    "sns.countplot(data=df, x='salary', hue='left', palette='viridis')\n",
    "plt.title('Impact of Salary on Retention')\n",
    "plt.xlabel('Salary Level')\n",
    "plt.ylabel('Count')\n",
    "plt.legend(title='Left', labels=['Stayed', 'Left'])\n",
    "plt.show()"
   ]
  },
  {
   "cell_type": "code",
   "execution_count": null,
   "id": "39f5f251",
   "metadata": {},
   "outputs": [],
   "source": [
    "# Plot bar charts showing corelation between department and employee retention.\n",
    "plt.figure(figsize=(12, 6))\n",
    "sns.countplot(data=df, x='Department', hue='left', palette='coolwarm', order=df['Department'].value_counts().index)\n",
    "plt.title('Correlation Between Department and Retention')\n",
    "plt.xlabel('Department')\n",
    "plt.ylabel('Count')\n",
    "plt.legend(title='Retention', labels=['Stayed', 'Left'])\n",
    "plt.show()"
   ]
  },
  {
   "cell_type": "code",
   "execution_count": null,
   "id": "27f843b2",
   "metadata": {},
   "outputs": [],
   "source": [
    "from sklearn.model_selection import train_test_split\n",
    "from sklearn.linear_model import LogisticRegression\n",
    "from sklearn.metrics import accuracy_score, confusion_matrix, classification_report"
   ]
  },
  {
   "cell_type": "code",
   "execution_count": null,
   "id": "d84d0390",
   "metadata": {},
   "outputs": [],
   "source": [
    "# Encoding categorical variables, 00 for low, 01 high, 10 medium\n",
    "data_encoded = pd.get_dummies(df, columns=['Department', 'salary'], drop_first=True)\n",
    "\n",
    "X = data_encoded.drop(columns=['left'])\n",
    "y = data_encoded['left']\n",
    "\n",
    "X_train, X_test, y_train, y_test = train_test_split(X, y, test_size=0.8)\n",
    "\n",
    "model = LogisticRegression()\n",
    "model.fit(X_train, y_train)\n",
    "\n",
    "y_pred = model.predict(X_test)\n",
    "\n",
    "accuracy = accuracy_score(y_test, y_pred)\n",
    "conf_matrix = confusion_matrix(y_test, y_pred)\n",
    "classification_rep = classification_report(y_test, y_pred)"
   ]
  },
  {
   "cell_type": "code",
   "execution_count": null,
   "id": "36108ab1",
   "metadata": {},
   "outputs": [],
   "source": [
    "print(f\"Model Accuracy: {accuracy * 100}%\\n\")\n",
    "print(\"Confusion Matrix:\")\n",
    "print(f\"True Negatives (Stayed correctly classified): {conf_matrix[0, 0]}\")\n",
    "print(f\"False Positives (Predicted Left but Stayed): {conf_matrix[0, 1]}\")\n",
    "print(f\"False Negatives (Predicted Stayed but Left): {conf_matrix[1, 0]}\")\n",
    "print(f\"True Positives (Left correctly classified): {conf_matrix[1, 1]}\\n\")\n",
    "\n",
    "print(\"Classification Report:\")\n",
    "print(classification_rep)"
   ]
  }
 ],
 "metadata": {
  "kernelspec": {
   "display_name": "Python 3",
   "language": "python",
   "name": "python3"
  },
  "language_info": {
   "codemirror_mode": {
    "name": "ipython",
    "version": 3
   },
   "file_extension": ".py",
   "mimetype": "text/x-python",
   "name": "python",
   "nbconvert_exporter": "python",
   "pygments_lexer": "ipython3",
   "version": "3.12.2"
  }
 },
 "nbformat": 4,
 "nbformat_minor": 5
}
