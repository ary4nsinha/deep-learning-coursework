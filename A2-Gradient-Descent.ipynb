{
 "cells": [
  {
   "cell_type": "code",
   "execution_count": null,
   "id": "04d194c6",
   "metadata": {},
   "outputs": [],
   "source": [
    "import numpy as np\n",
    "import pandas as pd\n",
    "import matplotlib.pyplot as plt"
   ]
  },
  {
   "cell_type": "code",
   "execution_count": null,
   "id": "4805956d",
   "metadata": {},
   "outputs": [],
   "source": [
    "df = pd.read_csv('C:\\\\Users\\\\worka\\\\OneDrive\\\\Desktop\\\\deep-learning-coursework\\\\data\\\\Insurance_or_not.csv')\n"
   ]
  },
  {
   "cell_type": "code",
   "execution_count": null,
   "id": "ae8e9f8c",
   "metadata": {},
   "outputs": [],
   "source": [
    "X = df[['age', 'affordibility']].values\n",
    "y = df[['bought_insurance']].values"
   ]
  },
  {
   "cell_type": "code",
   "execution_count": null,
   "id": "6ef69b8a",
   "metadata": {},
   "outputs": [],
   "source": [
    "X[:, 0] = X[:, 0] / 100  # Normalize the 'age' column"
   ]
  },
  {
   "cell_type": "code",
   "execution_count": null,
   "id": "e0b62b6b",
   "metadata": {},
   "outputs": [],
   "source": [
    "X = np.hstack((np.ones((X.shape[0], 1)), X))  # Add bias term as the first column"
   ]
  },
  {
   "cell_type": "code",
   "execution_count": null,
   "id": "886b7f86",
   "metadata": {},
   "outputs": [],
   "source": [
    "# Sigmoid function\n",
    "def sigmoid(z):\n",
    "    return 1 / (1 + np.exp(-z))\n",
    "\n",
    "# Binary cross-entropy loss\n",
    "def compute_loss(y, y_pred):\n",
    "    return -np.mean(y * np.log(y_pred) + (1 - y) * np.log(1 - y_pred))\n",
    "\n",
    "def gradient_descent(X, y, lr=0.1, epochs=100):\n",
    "    m, n = X.shape  # m: number of samples, n: number of features (including bias)\n",
    "    weights = np.zeros(n).reshape(-1, 1)  # Initialize weights to zeros (n, 1)\n",
    "    losses = []\n",
    "\n",
    "    # Ensure y is reshaped correctly\n",
    "    y = y.reshape(-1, 1)\n",
    "\n",
    "    for epoch in range(epochs):\n",
    "        # Linear combination\n",
    "        z = np.dot(X, weights)  # Shape: (m, 1)\n",
    "        # Sigmoid activation\n",
    "        y_pred = 1 / (1 + np.exp(-z))  # Shape: (m, 1)\n",
    "        # Compute gradient\n",
    "        gradient = np.dot(X.T, (y_pred - y)) / m  # Shape: (n, 1)\n",
    "        # Update weights\n",
    "        weights -= lr * gradient\n",
    "        # Compute loss\n",
    "        loss = -np.mean(y * np.log(y_pred) + (1 - y) * np.log(1 - y_pred))  # Binary cross-entropy loss\n",
    "        losses.append(loss)\n",
    "\n",
    "        # Print progress every 10 epochs\n",
    "        if epoch % 10 == 0:\n",
    "            print(f\"Epoch {epoch}, Loss: {loss:.4f}\")\n",
    "    \n",
    "    return weights, losses"
   ]
  },
  {
   "cell_type": "code",
   "execution_count": null,
   "id": "f5f9953f",
   "metadata": {},
   "outputs": [],
   "source": [
    "# Run gradient descent\n",
    "learning_rate = 0.1\n",
    "epochs = 100\n",
    "weights, losses = gradient_descent(X, y, lr=learning_rate, epochs=epochs)\n",
    "\n",
    "# Print final weights\n",
    "print(\"Trained Weights (including bias):\", weights)"
   ]
  },
  {
   "cell_type": "code",
   "execution_count": null,
   "id": "ec8470a8",
   "metadata": {},
   "outputs": [],
   "source": [
    "# Calculate predictions\n",
    "z = np.dot(X, weights)\n",
    "y_pred = sigmoid(z)\n",
    "y_pred_classes = (y_pred >= 0.5).astype(int)  # Convert probabilities to binary predictions"
   ]
  },
  {
   "cell_type": "code",
   "execution_count": null,
   "id": "765fdf9e",
   "metadata": {},
   "outputs": [],
   "source": [
    "# Calculate predictions\n",
    "z = np.dot(X, weights)\n",
    "y_pred = sigmoid(z)\n",
    "y_pred_classes = (y_pred >= 0.5).astype(int)  # Convert probabilities to binary predictions\n",
    "\n",
    "# Calculate accuracy\n",
    "accuracy = np.mean(y_pred_classes == y)\n",
    "print(f\"Accuracy: {accuracy:.4f}\")"
   ]
  }
 ],
 "metadata": {
  "kernelspec": {
   "display_name": "Python 3",
   "language": "python",
   "name": "python3"
  },
  "language_info": {
   "codemirror_mode": {
    "name": "ipython",
    "version": 3
   },
   "file_extension": ".py",
   "mimetype": "text/x-python",
   "name": "python",
   "nbconvert_exporter": "python",
   "pygments_lexer": "ipython3",
   "version": "3.12.2"
  }
 },
 "nbformat": 4,
 "nbformat_minor": 5
}
