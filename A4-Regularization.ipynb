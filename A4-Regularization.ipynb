{
 "cells": [
  {
   "cell_type": "code",
   "execution_count": null,
   "id": "92de23dd",
   "metadata": {},
   "outputs": [],
   "source": [
    "import pandas as pd\n",
    "from matplotlib import pyplot as plt\n",
    "%matplotlib inline"
   ]
  },
  {
   "cell_type": "code",
   "execution_count": null,
   "id": "38889ac2",
   "metadata": {},
   "outputs": [],
   "source": [
    "df = pd.read_csv('C:\\\\Users\\\\worka\\\\OneDrive\\\\Desktop\\\\deep-learning-coursework\\\\data\\\\new_insurance_data.csv')\n"
   ]
  },
  {
   "cell_type": "code",
   "execution_count": null,
   "id": "6ca9e78b",
   "metadata": {},
   "outputs": [],
   "source": [
    "df.head()"
   ]
  },
  {
   "cell_type": "code",
   "execution_count": null,
   "id": "b4acf5ab",
   "metadata": {},
   "outputs": [],
   "source": [
    "plt.scatter(df.age,df.bought_insurance, marker='*', color='blue')"
   ]
  },
  {
   "cell_type": "code",
   "execution_count": null,
   "id": "e6caaa47",
   "metadata": {},
   "outputs": [],
   "source": [
    "df.shape"
   ]
  },
  {
   "cell_type": "code",
   "execution_count": null,
   "id": "9c8c38c0",
   "metadata": {},
   "outputs": [],
   "source": [
    "from sklearn.model_selection import train_test_split"
   ]
  },
  {
   "cell_type": "code",
   "execution_count": null,
   "id": "67d44165",
   "metadata": {},
   "outputs": [],
   "source": [
    "x_train, x_test, y_train, y_test = train_test_split(df[['age']],df.bought_insurance, test_size=0.8)"
   ]
  },
  {
   "cell_type": "code",
   "execution_count": null,
   "id": "7e8eb484",
   "metadata": {},
   "outputs": [],
   "source": [
    "x_test"
   ]
  },
  {
   "cell_type": "code",
   "execution_count": null,
   "id": "9ab6f3ae",
   "metadata": {},
   "outputs": [],
   "source": [
    "from sklearn.linear_model import LogisticRegression\n",
    "model = LogisticRegression()"
   ]
  },
  {
   "cell_type": "code",
   "execution_count": null,
   "id": "3137abb6",
   "metadata": {},
   "outputs": [],
   "source": [
    "\n",
    "model.fit(x_train,y_train)"
   ]
  },
  {
   "cell_type": "code",
   "execution_count": null,
   "id": "0455ab0e",
   "metadata": {},
   "outputs": [],
   "source": [
    "model.predict(x_test)"
   ]
  },
  {
   "cell_type": "code",
   "execution_count": null,
   "id": "7c58c589",
   "metadata": {},
   "outputs": [],
   "source": [
    "model.score(x_test,y_test)"
   ]
  },
  {
   "cell_type": "code",
   "execution_count": null,
   "id": "8106e7e1",
   "metadata": {},
   "outputs": [],
   "source": [
    "model.coef_"
   ]
  },
  {
   "cell_type": "code",
   "execution_count": null,
   "id": "bfb472ab",
   "metadata": {},
   "outputs": [],
   "source": [
    "import tensorflow as tf\n",
    "import numpy as np\n",
    "from tensorflow import keras"
   ]
  },
  {
   "cell_type": "code",
   "execution_count": null,
   "id": "7fc2ec25",
   "metadata": {},
   "outputs": [],
   "source": [
    "x_train_scaled = x_train.copy()\n",
    "x_train_scaled['age'] = x_train_scaled['age']/100\n",
    "\n",
    "x_test_scaled = x_test.copy()\n",
    "x_test_scaled['age'] = x_test_scaled['age']/100"
   ]
  },
  {
   "cell_type": "code",
   "execution_count": null,
   "id": "faf3b875",
   "metadata": {},
   "outputs": [],
   "source": [
    "print(x_train_scaled.shape)\n",
    "print(x_test_scaled.shape)"
   ]
  },
  {
   "cell_type": "code",
   "execution_count": null,
   "id": "d2e849e8",
   "metadata": {},
   "outputs": [],
   "source": [
    "model = keras.Sequential([\n",
    "    keras.layers.Dense(1, input_shape=(1,),activation='sigmoid', kernel_initializer='ones',bias_initializer='zeros')\n",
    "])\n",
    "\n",
    "model.compile(optimizer=\"sgd\", loss = 'binary_crossentropy', metrics=['accuracy'])\n",
    "\n",
    "history = model.fit(x_train_scaled, y_train, epochs = 10, verbose=1, validation_data = (x_test_scaled, y_test))"
   ]
  },
  {
   "cell_type": "code",
   "execution_count": null,
   "id": "bd77b7bd",
   "metadata": {},
   "outputs": [],
   "source": [
    "# L1 Regularization\n",
    "model_l1 = LogisticRegression(penalty='l1', solver='liblinear', C=1.0)\n",
    "model_l1.fit(x_train, y_train)\n",
    "print(\"L1 Regularized Accuracy:\", model_l1.score(x_train_scaled, y_train))\n",
    "print(\"L1 Coefficients:\", model_l1.coef_)\n",
    "\n",
    "# L2 Regularization\n",
    "model_l2 = LogisticRegression(penalty='l2', solver='liblinear', C=1.0)\n",
    "model_l2.fit(x_train, y_train)\n",
    "print(\"L2 Regularized Accuracy:\", model_l2.score(x_train_scaled, y_train))\n",
    "print(\"L2 Coefficients:\", model_l2.coef_)"
   ]
  }
 ],
 "metadata": {
  "kernelspec": {
   "display_name": "Python 3",
   "language": "python",
   "name": "python3"
  },
  "language_info": {
   "codemirror_mode": {
    "name": "ipython",
    "version": 3
   },
   "file_extension": ".py",
   "mimetype": "text/x-python",
   "name": "python",
   "nbconvert_exporter": "python",
   "pygments_lexer": "ipython3",
   "version": "3.12.2"
  }
 },
 "nbformat": 4,
 "nbformat_minor": 5
}
